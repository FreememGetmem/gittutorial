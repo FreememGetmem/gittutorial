{
 "cells": [
  {
   "cell_type": "code",
   "execution_count": 4,
   "metadata": {},
   "outputs": [
    {
     "name": "stdout",
     "output_type": "stream",
     "text": [
      "Woof!\n",
      "Meoow!\n",
      "Meoow!\n"
     ]
    }
   ],
   "source": [
    "### Method Overriding\n",
    "class Animal:\n",
    "    def speak(self):\n",
    "        return \"Sound of the animal\"\n",
    "\n",
    "## Derived class1\n",
    "class Dog(Animal):\n",
    "    def speak(self):\n",
    "        return \"Woof!\"\n",
    "    \n",
    "## Derived class\n",
    "class Cat(Animal):\n",
    "    def speak(self):\n",
    "        return \"Meoow!\"\n",
    "    \n",
    "## Function that demonstrates polymorphism\n",
    "def animal_speak(animal):\n",
    "    print(animal.speak())\n",
    "    \n",
    "dog = Dog()\n",
    "cat = Cat()\n",
    "print(dog.speak())\n",
    "print(cat.speak())\n",
    "animal_speak(cat)"
   ]
  },
  {
   "cell_type": "code",
   "execution_count": 6,
   "metadata": {},
   "outputs": [
    {
     "name": "stdout",
     "output_type": "stream",
     "text": [
      "the are is 20\n",
      "the are is 28.259999999999998\n"
     ]
    }
   ],
   "source": [
    "### Polymorphism with Functions and Methods\n",
    "## Base class\n",
    "\n",
    "class Shape:\n",
    "    def area(self):\n",
    "        return \"the area of the figure\"\n",
    "\n",
    "## Derived class 1\n",
    "class Rectangle(Shape):\n",
    "    def __init__(self, width, height):\n",
    "        self.width = width\n",
    "        self.height = height\n",
    "    \n",
    "    def area(self):\n",
    "        return self.width * self.height\n",
    "    \n",
    "## Derived class 2\n",
    "\n",
    "class circle(Shape):\n",
    "    def __init__(self, radius):\n",
    "        self.radius = radius\n",
    "\n",
    "    def area(self):\n",
    "        return 3.14*self.radius *self.radius\n",
    "\n",
    "## Function that demonstrates polymorphism\n",
    "def print_area(shape):\n",
    "    print(f\"the are is {shape.area()}\")\n",
    "\n",
    "rectangle = Rectangle(4,5)\n",
    "circle = circle(3)\n",
    "\n",
    "print_area(rectangle)\n",
    "print_area(circle)"
   ]
  },
  {
   "cell_type": "code",
   "execution_count": 8,
   "metadata": {},
   "outputs": [
    {
     "name": "stdout",
     "output_type": "stream",
     "text": [
      "Car engine started\n"
     ]
    }
   ],
   "source": [
    "### Polymorphisme with Abstract Base Classes\n",
    "from abc import ABC, abstractmethod\n",
    "\n",
    "class Vehicule(ABC):\n",
    "    @abstractmethod\n",
    "    def start_engine(self):\n",
    "        pass\n",
    "\n",
    "## Derived class 1\n",
    "class Car(Vehicule):\n",
    "    def start_engine(self):\n",
    "        return \"Car engine started\"\n",
    "    \n",
    "## Derived class 2\n",
    "class Motorcycle(Vehicule):\n",
    "    def start_engine(self):\n",
    "        return \"Motocycle engine started\"\n",
    "\n",
    "## function that demonstrates polymorphisme\n",
    "def start_vehicule(vehicule):\n",
    "    print(vehicule.start_engine())\n",
    "    \n",
    "## Create objects\n",
    "car = Car()\n",
    "motorcyle = Motorcycle()\n",
    "\n",
    "start_vehicule(car)\n"
   ]
  }
 ],
 "metadata": {
  "kernelspec": {
   "display_name": "Python 3",
   "language": "python",
   "name": "python3"
  },
  "language_info": {
   "codemirror_mode": {
    "name": "ipython",
    "version": 3
   },
   "file_extension": ".py",
   "mimetype": "text/x-python",
   "name": "python",
   "nbconvert_exporter": "python",
   "pygments_lexer": "ipython3",
   "version": "3.12.0"
  }
 },
 "nbformat": 4,
 "nbformat_minor": 2
}
