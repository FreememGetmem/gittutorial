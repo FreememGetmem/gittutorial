{
 "cells": [
  {
   "cell_type": "code",
   "execution_count": 7,
   "metadata": {},
   "outputs": [
    {
     "name": "stdout",
     "output_type": "stream",
     "text": [
      "Vector(6 , 8)\n",
      "Vector(-2 , -2)\n",
      "Vector(6 , 9)\n"
     ]
    }
   ],
   "source": [
    "### Mathematical \n",
    "class Vector:\n",
    "    def __init__(self, x, y):\n",
    "        self.x=x\n",
    "        self.y=y\n",
    "\n",
    "    def __add__(self, other):\n",
    "        return Vector(self.x + other.x, self.y + other.y)\n",
    "    \n",
    "    def __sub__(self, other):\n",
    "        return Vector(self.x - other.x, self.y - other.y)\n",
    "    \n",
    "    def __mul__(self, other):\n",
    "        return Vector(self.x * other, self.y * other)\n",
    "    \n",
    "    def __eq__(self, other):\n",
    "        return self.x == other.x and self.y == other.y\n",
    "    \n",
    "    def __repr__(self):\n",
    "        return f\"Vector({self.x} , {self.y})\"\n",
    "\n",
    "## create objects of the Vector Class\n",
    "v1 = Vector(2,3)\n",
    "v2 = Vector(4,5)\n",
    "\n",
    "print(v1+v2)    \n",
    "print(v1-v2)\n",
    "print(v1*3)"
   ]
  },
  {
   "cell_type": "code",
   "execution_count": 13,
   "metadata": {},
   "outputs": [
    {
     "name": "stdout",
     "output_type": "stream",
     "text": [
      "<__main__.ComplexNumber object at 0x79fde4b008c0>\n",
      "<__main__.ComplexNumber object at 0x79fde4b008c0>\n",
      "<__main__.ComplexNumber object at 0x79fde4b008c0>\n",
      "<__main__.ComplexNumber object at 0x79fde4b008c0>\n",
      "2 + 3i\n"
     ]
    }
   ],
   "source": [
    "### Overloading Operators for complex Numbers\n",
    "\n",
    "class ComplexNumber:\n",
    "    def __init__(self, real, imag):\n",
    "        self.real = real\n",
    "        self.imag = imag\n",
    "    \n",
    "    def __add__(self, other):\n",
    "        return ComplexNumber(self.real + other.real, self.imag + other.imag)\n",
    "    \n",
    "    def __sub__(self, other):\n",
    "        return ComplexNumber(self.real - other.real, self.imag - other.imag)\n",
    "    \n",
    "    def __mul__(self, other):\n",
    "        real_part = self.real * other.real - self.imag * other.imag\n",
    "        imag_part = self.imag * other.imag + self.imag * other.real\n",
    "        return ComplexNumber(real_part, imag_part)\n",
    "    \n",
    "    def __truediv__(self, other):\n",
    "        denominator = other.real**2 + other.imag**2\n",
    "        real_part = (self.real * other.real + self.imag * other.imag) / denominator\n",
    "        imag_part = (self.imag * other.real - self.real * other.imag) / denominator\n",
    "        return ComplexNumber(real_part, imag_part)\n",
    "    \n",
    "    def __eq__(self, other):\n",
    "        return f\"{self.real} + {self.imag}i\"\n",
    "    \n",
    "## Create object of the ComplexNumber class\n",
    "c1 = ComplexNumber(2,3)\n",
    "c2 = ComplexNumber(1,4)\n",
    "\n",
    "## Use overloaded operators\n",
    "print(c1+c2)\n",
    "print(c1-c2)\n",
    "print(c1*c2)\n",
    "print(c1/c2)\n",
    "print(c1==c2)\n"
   ]
  }
 ],
 "metadata": {
  "kernelspec": {
   "display_name": "Python 3",
   "language": "python",
   "name": "python3"
  },
  "language_info": {
   "codemirror_mode": {
    "name": "ipython",
    "version": 3
   },
   "file_extension": ".py",
   "mimetype": "text/x-python",
   "name": "python",
   "nbconvert_exporter": "python",
   "pygments_lexer": "ipython3",
   "version": "3.12.0"
  }
 },
 "nbformat": 4,
 "nbformat_minor": 2
}
