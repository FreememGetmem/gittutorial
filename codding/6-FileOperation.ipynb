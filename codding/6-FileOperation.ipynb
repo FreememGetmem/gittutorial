{
 "cells": [
  {
   "cell_type": "code",
   "execution_count": 2,
   "metadata": {},
   "outputs": [
    {
     "name": "stdout",
     "output_type": "stream",
     "text": [
      "Hello How are you ?\n",
      "I am fine\n",
      "Welcome to my courese\n",
      "My name is Mor\n"
     ]
    }
   ],
   "source": [
    "## Read a whole file\n",
    "\n",
    "with open(\"source.txt\", 'r') as file:\n",
    "    content = file.read()\n",
    "    print(content)"
   ]
  },
  {
   "cell_type": "code",
   "execution_count": null,
   "metadata": {},
   "outputs": [
    {
     "name": "stdout",
     "output_type": "stream",
     "text": [
      "Hello How are you ?\n",
      "I am fine\n",
      "Welcome to my courese\n",
      "My name is Mor\n"
     ]
    }
   ],
   "source": [
    "## Read a file line by line\n",
    "with open('source.txt', 'r') as file:\n",
    "    for line in file:\n",
    "        print(line.strip()) ## sstrip( removes the newline character)"
   ]
  },
  {
   "cell_type": "code",
   "execution_count": 5,
   "metadata": {},
   "outputs": [],
   "source": [
    "## Writting a file (OverWritting)\n",
    "\n",
    "with open('source.txt', 'w') as file:\n",
    "    file.write('Hello world!\\n')\n",
    "    file.write('this is a nex line')\n"
   ]
  },
  {
   "cell_type": "code",
   "execution_count": 7,
   "metadata": {},
   "outputs": [],
   "source": [
    "## Wite a file without overwritting\n",
    "with open('source.txt', 'a') as file:\n",
    "    file.write('\\nAppen operation taking palce')"
   ]
  },
  {
   "cell_type": "code",
   "execution_count": 8,
   "metadata": {},
   "outputs": [],
   "source": [
    "### Writing a list of lines to a file\n",
    "liones = ['First line \\n', 'Second line \\n', 'Third line\\n']\n",
    "with open('source.txt', 'a') as file:\n",
    "    file.writelines(liones)"
   ]
  },
  {
   "cell_type": "code",
   "execution_count": 11,
   "metadata": {},
   "outputs": [],
   "source": [
    "### Binary Files\n",
    "\n",
    "data = b'\\x00\\x01\\x02\\x03\\x04'\n",
    "with open('source.txt', 'wb') as file:\n",
    "    file.write(data)"
   ]
  },
  {
   "cell_type": "code",
   "execution_count": 12,
   "metadata": {},
   "outputs": [
    {
     "name": "stdout",
     "output_type": "stream",
     "text": [
      "b'\\x00\\x01\\x02\\x03\\x04'\n"
     ]
    }
   ],
   "source": [
    "with open(\"source.txt\", 'rb') as file:\n",
    "    content = file.read()\n",
    "    print(content)"
   ]
  },
  {
   "cell_type": "code",
   "execution_count": 14,
   "metadata": {},
   "outputs": [],
   "source": [
    "### Read the content from source text file and write to a destination test\n",
    "\n",
    "with open(\"source.txt\", 'r') as source_file:\n",
    "    content = source_file.read()\n",
    "\n",
    "with open(\"destination.txt\", 'w') as destination_file:\n",
    "    destination_file.write(content)"
   ]
  },
  {
   "cell_type": "code",
   "execution_count": 15,
   "metadata": {},
   "outputs": [
    {
     "name": "stdout",
     "output_type": "stream",
     "text": [
      "Line: 1, Words: 3, Characters: 14\n"
     ]
    }
   ],
   "source": [
    "def count_text_file(file_path):\n",
    "    with open(file_path, 'r') as file:\n",
    "        lines = file.readlines()\n",
    "        line_count = len(lines)\n",
    "        word_count = sum(len(line.split()) for line in lines)\n",
    "        char_count = sum(len(line) for line in lines)\n",
    "    return line_count, word_count, char_count\n",
    "\n",
    "file_path = 'source.txt'\n",
    "lines, words, characteres = count_text_file(file_path)\n",
    "print(f'Line: {lines}, Words: {words}, Characters: {characteres}')"
   ]
  },
  {
   "cell_type": "code",
   "execution_count": 16,
   "metadata": {},
   "outputs": [
    {
     "name": "stdout",
     "output_type": "stream",
     "text": [
      "Hello wordl\n",
      "This is a new line \n",
      "\n"
     ]
    }
   ],
   "source": [
    "### Writing and the reading a file\n",
    "\n",
    "with open('source.txt', 'w+') as file:\n",
    "    file.write('Hello wordl\\n')\n",
    "    file.write('This is a new line \\n')\n",
    "\n",
    "    # Move the file cursor to the begining\n",
    "    file.seek(0)\n",
    "    ## Read the content of the file\n",
    "    content = file.read()\n",
    "    print(content)"
   ]
  }
 ],
 "metadata": {
  "kernelspec": {
   "display_name": "Python 3",
   "language": "python",
   "name": "python3"
  },
  "language_info": {
   "codemirror_mode": {
    "name": "ipython",
    "version": 3
   },
   "file_extension": ".py",
   "mimetype": "text/x-python",
   "name": "python",
   "nbconvert_exporter": "python",
   "pygments_lexer": "ipython3",
   "version": "3.12.0"
  }
 },
 "nbformat": 4,
 "nbformat_minor": 2
}
